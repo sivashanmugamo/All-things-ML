{
 "cells": [
  {
   "cell_type": "markdown",
   "metadata": {},
   "source": [
    "# Task 1"
   ]
  },
  {
   "cell_type": "code",
   "execution_count": null,
   "metadata": {},
   "outputs": [],
   "source": [
    "'''Importing the required libraries'''\n",
    "import math\n",
    "import mnist as mn\n",
    "import numpy as np\n",
    "import matplotlib.pyplot as plt"
   ]
  },
  {
   "cell_type": "code",
   "execution_count": null,
   "metadata": {},
   "outputs": [],
   "source": [
    "data = mn.MNIST('samples')\n",
    "\n",
    "images, label = data.load_training()\n",
    "'''The above line provides a list of images of dimensions 28x28 vector, which is 60,000x784 and the labels are array.array with 60,000 elements'''\n",
    "\n",
    "categories = range(10)"
   ]
  },
  {
   "cell_type": "code",
   "execution_count": null,
   "metadata": {},
   "outputs": [],
   "source": [
    "def cal_mean(img, lbl, categories):\n",
    "    '''Function to calculate the mean value of the images for the data'''\n",
    "\n",
    "    mean = np.ones((10, 28, 28))\n",
    "    total = 0\n",
    "\n",
    "    for i in categories:\n",
    "        mean_temp = np.zeros((28, 28))\n",
    "\n",
    "        for j in range(len(img)):\n",
    "            if(lbl[j] == i):\n",
    "                # Converts a 1xN list to sqrt(N)xsqrt(N) numpy.array\n",
    "                img_dim = int(math.sqrt(len(img[j])))\n",
    "\n",
    "                img_array = np.asarray((img[j]))\n",
    "                img_array = np.reshape(img_array, (img_dim, img_dim))\n",
    "                \n",
    "                #  Calculates summation of terms\n",
    "                mean_temp = mean_temp + img_array\n",
    "\n",
    "                total += 1\n",
    "\n",
    "        mean[i] = mean_temp/total\n",
    "\n",
    "        # For visualizing\n",
    "        plt.imshow(mean[i])\n",
    "        plt.pause(5)\n",
    "\n",
    "        # break # For testing\n",
    "\n",
    "    return mean"
   ]
  },
  {
   "cell_type": "code",
   "execution_count": null,
   "metadata": {},
   "outputs": [],
   "source": [
    "def cal_std_dev(img, lbl, categories, mean):\n",
    "    '''Function to calculate the standard deviation of the images from the data'''\n",
    "\n",
    "    std_dev = np.ones((10, 28, 28))\n",
    "\n",
    "    for i in categories:\n",
    "        std_dev_temp = np.zeros((28,28))\n",
    "\n",
    "        for j in range(len(img)):\n",
    "            if(lbl[j] == i):\n",
    "                # Converts a 1xN list to sqrt(N)xsqrt(N) numpy.array\n",
    "                img_dim = int(math.sqrt(len(img[j])))\n",
    "\n",
    "                img_array = np.asarray(img[j])\n",
    "                img_array = np.reshape(img_array, (img_dim, img_dim))\n",
    "\n",
    "                # Calculates summation part\n",
    "                std_dev_temp = std_dev_temp + ((img_array - mean[i])*(img_array - mean[i]))\n",
    "\n",
    "        std_dev_temp = std_dev_temp/(len(img[i]))\n",
    "        std_dev[i] = np.sqrt(std_dev_temp)\n",
    "\n",
    "        # For visualizing\n",
    "        plt.imshow(std_dev[i])\n",
    "        plt.pause(5)\n",
    "\n",
    "        # break # For testing\n",
    "\n",
    "    return std_dev"
   ]
  },
  {
   "cell_type": "code",
   "execution_count": null,
   "metadata": {},
   "outputs": [],
   "source": [
    "mean_digits = cal_mean(images, label, categories)\n",
    "std_dev_digits = cal_std_dev(images, label, categories, mean_digits)"
   ]
  },
  {
   "cell_type": "markdown",
   "metadata": {},
   "source": [
    "# Task 2"
   ]
  },
  {
   "cell_type": "code",
   "execution_count": null,
   "metadata": {},
   "outputs": [],
   "source": [
    "'''Importing the required libraries'''\n",
    "import math\n",
    "import operator\n",
    "import mnist as mn\n",
    "import numpy as np\n",
    "import matplotlib.pyplot as plt\n",
    "\n",
    "from sklearn.metrics import classification_report"
   ]
  },
  {
   "cell_type": "code",
   "execution_count": null,
   "metadata": {},
   "outputs": [],
   "source": [
    "data = mn.MNIST('samples')\n",
    "\n",
    "train_img, train_lbl = data.load_training()\n",
    "test_img, test_lbl = data.load_testing()\n",
    "\n",
    "categories = range(10)"
   ]
  },
  {
   "cell_type": "code",
   "execution_count": null,
   "metadata": {},
   "outputs": [],
   "source": [
    "def cal_mean(img, lbl, categories):\n",
    "    '''Function to calculate the mean value of the images for the data'''\n",
    "\n",
    "    mean = np.ones((10, 28, 28))\n",
    "    total = 0\n",
    "\n",
    "    for i in categories:\n",
    "        mean_temp = np.zeros((28, 28))\n",
    "\n",
    "        for j in range(len(img)):\n",
    "            if(lbl[j] == i):\n",
    "                '''Converts a 1xN list to sqrt(N)xsqrt(N) numpy.array'''\n",
    "                img_dim = int(math.sqrt(len(img[j])))\n",
    "\n",
    "                img_array = np.asarray((img[j]))\n",
    "                img_array = np.reshape(img_array, (img_dim, img_dim))\n",
    "                \n",
    "                '''Calculates summation of terms'''\n",
    "                mean_temp = mean_temp + img_array\n",
    "\n",
    "                total += 1\n",
    "\n",
    "        mean[i] = mean_temp/total\n",
    "\n",
    "        # break # For testing\n",
    "\n",
    "    return mean"
   ]
  },
  {
   "cell_type": "code",
   "execution_count": null,
   "metadata": {},
   "outputs": [],
   "source": [
    "def cal_std_dev(img, lbl, categories, mean):\n",
    "    '''Function to calculate the standard deviation of the images from the data'''\n",
    "\n",
    "    std_dev = np.ones((10, 28, 28))\n",
    "\n",
    "    for i in categories:\n",
    "        std_dev_temp = np.zeros((28,28))\n",
    "\n",
    "        for j in range(len(img)):\n",
    "            if(lbl[j] == i):\n",
    "                '''Converts a 1xN list to sqrt(N)xsqrt(N) numpy.array'''\n",
    "                img_dim = int(math.sqrt(len(img[j])))\n",
    "\n",
    "                img_array = np.asarray(img[j])\n",
    "                img_array = np.reshape(img_array, (img_dim, img_dim))\n",
    "\n",
    "                '''Calculates summation part'''\n",
    "                std_dev_temp = std_dev_temp + ((img_array - mean[i])*(img_array - mean[i]))\n",
    "\n",
    "        std_dev_temp = std_dev_temp/(len(img[i]))\n",
    "        std_dev[i] = np.sqrt(std_dev_temp)\n",
    "\n",
    "        # break # For testing\n",
    "\n",
    "    return std_dev"
   ]
  },
  {
   "cell_type": "code",
   "execution_count": null,
   "metadata": {},
   "outputs": [],
   "source": [
    "def model(img, lbl, categories, mean):\n",
    "    categories_prob = {}\n",
    "\n",
    "    for i in categories:\n",
    "        categories_prob[i] = lbl.tolist().count(i)\n",
    "\n",
    "    d = 2 # dimension\n",
    "\n",
    "    pred = []\n",
    "\n",
    "    for i in range(len(img)):\n",
    "        g = {}\n",
    "        for j in categories:\n",
    "\n",
    "            img_dim = int(math.sqrt(len(img[i])))\n",
    "            img_array = np.asarray(img[i]).reshape((img_dim, img_dim))\n",
    "\n",
    "            img_mean = np.subtract(img_array, mean[j])\n",
    "\n",
    "            cov_mean_inv = np.dot(np.linalg.inv(np.cov(mean[j]) + (np.identity(img_dim) * 0.1)), img_mean)\n",
    "\n",
    "            g[j] = (np.subtract(np.dot(np.reshape(img_mean, (img_dim**2, 1)).T, np.reshape(cov_mean_inv, (img_dim**2, 1))).flatten()*(-0.5), ((d/2)*(np.log(2*(math.pi))))) + ((0.5)*(np.log(np.linalg.det(np.cov(mean[j]) + + (np.identity(img_dim) * 0.1))))) + (np.log(categories_prob[j])))[0]\n",
    "        \n",
    "        pred.append(max(g.items(), key = operator.itemgetter(1))[0])\n",
    "\n",
    "    return pred"
   ]
  },
  {
   "cell_type": "code",
   "execution_count": null,
   "metadata": {},
   "outputs": [],
   "source": [
    "mean_digits = cal_mean(train_img, train_lbl, categories)\n",
    "std_dev_digits = cal_std_dev(train_img, train_lbl, categories, mean_digits)\n",
    "\n",
    "test_pred = model(test_img, test_lbl, categories, mean_digits)\n",
    "\n",
    "print(classification_report(test_lbl, test_pred))"
   ]
  }
 ],
 "metadata": {
  "kernelspec": {
   "display_name": "Python 3",
   "language": "python",
   "name": "python3"
  },
  "language_info": {
   "codemirror_mode": {
    "name": "ipython",
    "version": 3
   },
   "file_extension": ".py",
   "mimetype": "text/x-python",
   "name": "python",
   "nbconvert_exporter": "python",
   "pygments_lexer": "ipython3",
   "version": "3.8.5"
  }
 },
 "nbformat": 4,
 "nbformat_minor": 2
}
